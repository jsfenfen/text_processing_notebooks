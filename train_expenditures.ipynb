{
 "metadata": {
  "name": ""
 },
 "nbformat": 3,
 "nbformat_minor": 0,
 "worksheets": [
  {
   "cells": [
    {
     "cell_type": "raw",
     "metadata": {},
     "source": []
    },
    {
     "cell_type": "code",
     "collapsed": false,
     "input": [
      "import os, sys, json, csv"
     ],
     "language": "python",
     "metadata": {},
     "outputs": [],
     "prompt_number": 1
    },
    {
     "cell_type": "code",
     "collapsed": false,
     "input": [
      "sys.path.append('/Users/jfenton/github-whitelabel/libshorttext/shorttext_install/libshorttext-1.1')"
     ],
     "language": "python",
     "metadata": {},
     "outputs": [],
     "prompt_number": 2
    },
    {
     "cell_type": "code",
     "collapsed": false,
     "input": [
      "from libshorttext.converter import Text2svmConverter, FeatureGenerator, TextPreprocessor, convert_text\n",
      "from libshorttext.classifier import train_converted_text, predict_text\n",
      "from libshorttext import analyzer"
     ],
     "language": "python",
     "metadata": {},
     "outputs": [],
     "prompt_number": 3
    },
    {
     "cell_type": "code",
     "collapsed": false,
     "input": [
      "BASE_DIR = '/Users/jfenton/fec_disbursements/classification/'"
     ],
     "language": "python",
     "metadata": {},
     "outputs": [],
     "prompt_number": 4
    },
    {
     "cell_type": "code",
     "collapsed": false,
     "input": [
      "\n",
      "training_file = '/Users/jfenton/fec_disbursements/crp_expenditures/code_training_data.txt'\n",
      "settings_file = os.path.join(BASE_DIR, 'disbursement_settings.json')\n",
      "train_svm = os.path.join(BASE_DIR, 'train_disbursement.svm')\n",
      "\n",
      "# this is just like the training file, but with different values\n",
      "#test_csv = os.path.join(BASE_DIR,'category_codes_test.txt')\n",
      "test_csv = '/Users/jfenton/fec_disbursements/crp_expenditures/code_training_data_test.txt'\n",
      "\n"
     ],
     "language": "python",
     "metadata": {},
     "outputs": [],
     "prompt_number": 5
    },
    {
     "cell_type": "code",
     "collapsed": false,
     "input": [
      "settings = {}\n",
      "\n",
      "# STEMMING: 1 to use porter, 0 for no stemming, or give your \n",
      "#           own stemmer that maps from a list of tokens to a \n",
      "#           list of stemmed tokens\n",
      "settings['stemming'] = '1'\n",
      "\n",
      "# STOPWORDS: 1 to use default stops, 0 for no stops, or give\n",
      "#            a list of stopwords to be used\n",
      "## 0 or 1 seems to make little difference.\n",
      "settings['stopword'] = '1'\n",
      "\n",
      "# NGRAM: 1 to use bigram, 0 to use unigram\n",
      "settings['ngram'] = '0'\n",
      "\n",
      "json.dump(settings, \n",
      "          open( settings_file,'w'),\n",
      "          indent=2)"
     ],
     "language": "python",
     "metadata": {},
     "outputs": [],
     "prompt_number": 6
    },
    {
     "cell_type": "code",
     "collapsed": false,
     "input": [
      "tp_option_str = \"-stopword {stopword} -stemming {stemming}\".format(**settings)\n",
      "text_processor = TextPreprocessor(option=tp_option_str)"
     ],
     "language": "python",
     "metadata": {},
     "outputs": [],
     "prompt_number": 7
    },
    {
     "cell_type": "code",
     "collapsed": false,
     "input": [
      "fg_option_str = \"-feature {ngram}\".format(**settings)\n",
      "feature_generator = FeatureGenerator(option=fg_option_str)"
     ],
     "language": "python",
     "metadata": {},
     "outputs": [],
     "prompt_number": 8
    },
    {
     "cell_type": "code",
     "collapsed": false,
     "input": [
      "text_converter = Text2svmConverter()"
     ],
     "language": "python",
     "metadata": {},
     "outputs": [],
     "prompt_number": 9
    },
    {
     "cell_type": "code",
     "collapsed": false,
     "input": [
      "text_converter.feat_gen = feature_generator\n",
      "text_converter.text_prep = text_processor"
     ],
     "language": "python",
     "metadata": {},
     "outputs": [],
     "prompt_number": 10
    },
    {
     "cell_type": "code",
     "collapsed": false,
     "input": [
      "convert_text(training_file, text_converter, train_svm)"
     ],
     "language": "python",
     "metadata": {},
     "outputs": [],
     "prompt_number": 11
    },
    {
     "cell_type": "code",
     "collapsed": false,
     "input": [
      "text_converter.save(os.path.join(BASE_DIR, 'train_disbursement_converter'))"
     ],
     "language": "python",
     "metadata": {},
     "outputs": [],
     "prompt_number": 12
    },
    {
     "cell_type": "code",
     "collapsed": false,
     "input": [
      "text_model = train_converted_text(train_svm, text_converter)"
     ],
     "language": "python",
     "metadata": {},
     "outputs": [],
     "prompt_number": 13
    },
    {
     "cell_type": "code",
     "collapsed": false,
     "input": [
      "# overwrite\n",
      "text_model.save(os.path.join(BASE_DIR, 'train_disbursement_model'), force=True)"
     ],
     "language": "python",
     "metadata": {},
     "outputs": [],
     "prompt_number": 14
    },
    {
     "cell_type": "code",
     "collapsed": false,
     "input": [
      "prediction_result_path = os.path.join(BASE_DIR, 'prediction.result')"
     ],
     "language": "python",
     "metadata": {},
     "outputs": [],
     "prompt_number": 15
    },
    {
     "cell_type": "code",
     "collapsed": false,
     "input": [
      "predictionResult = predict_text(test_csv, text_model)\n"
     ],
     "language": "python",
     "metadata": {},
     "outputs": [],
     "prompt_number": 16
    },
    {
     "cell_type": "code",
     "collapsed": false,
     "input": [
      "# is the result analyzable?\n",
      "print predictionResult.analyzable()\n",
      "print predictionResult.predicted_y[:100]\n",
      "print predictionResult.true_y[:100]\n",
      "\n"
     ],
     "language": "python",
     "metadata": {},
     "outputs": [
      {
       "output_type": "stream",
       "stream": "stdout",
       "text": [
        "True\n",
        "['A60', 'F30', 'F30', 'F30', 'F30', 'F30', 'F30', 'F30', 'W10', 'F40', 'W10', 'W10', 'W10', 'W10', 'W10', 'W10', 'W10', 'W10', 'W10', 'W10', 'A40', 'F00', 'F00', 'A40', 'W10', 'W10', 'W10', 'W10', 'W10', 'W10', 'W10', 'F50', 'W10', 'W10', 'W10', 'W10', 'W10', 'F50', 'F50', 'A40', 'A40', 'F20', 'A00', 'A70', 'C30', 'C30', 'C30', 'C30', 'C30', 'F40', 'F10', 'F40', 'F40', 'F40', 'A00', 'U50', 'A00', 'A70', 'W10', 'W10', 'F40', 'F30', 'A00', 'A00', 'A00', 'W10', 'U50', 'S50', 'A70', 'A60', 'U30', 'U30', 'A00', 'F30', 'A00', 'A00', 'S50', 'F30', 'F40', 'F30', 'A70', 'A70', 'F50', 'A00', 'A40', 'F40', 'A00', 'U10', 'C10', 'A70', 'A60', 'A40', 'F50', 'F10', 'F30', 'A40', 'A60', 'A00', 'A00', 'U50']\n",
        "['A60', 'F30', 'F30', 'F30', 'F30', 'F30', 'F30', 'F30', 'W10', 'F40', 'W10', 'W10', 'W10', 'W10', 'W10', 'W10', 'W10', 'W10', 'W10', 'W10', 'A40', 'F00', 'F00', 'A40', 'W10', 'W10', 'W10', 'W10', 'W10', 'W10', 'W10', 'F50', 'W10', 'W10', 'W10', 'W10', 'W10', 'F50', 'F50', 'A40', 'A40', 'A20', 'A00', 'A70', 'C30', 'C30', 'C30', 'C30', 'C30', 'F40', 'F10', 'F40', 'F40', 'F40', 'A00', 'S50', 'A00', 'A70', 'W10', 'W10', 'F40', 'F30', 'A00', 'A00', 'A00', 'W10', 'U50', 'S50', 'A70', 'A60', 'U30', 'U30', 'A00', 'F30', 'A00', 'A00', 'S50', 'F30', 'F40', 'F30', 'A70', 'A70', 'F50', 'A00', 'A40', 'F40', 'A00', 'A20', 'F10', 'A70', 'A60', 'A40', 'F50', 'F10', 'F30', 'A40', 'A60', 'A00', 'A00', 'U50']\n"
       ]
      }
     ],
     "prompt_number": 17
    },
    {
     "cell_type": "code",
     "collapsed": false,
     "input": [
      "# if so, then:\n",
      "predictionResult.get_accuracy()"
     ],
     "language": "python",
     "metadata": {},
     "outputs": [
      {
       "metadata": {},
       "output_type": "pyout",
       "prompt_number": 18,
       "text": [
        "0.8994285714285715"
       ]
      }
     ],
     "prompt_number": 18
    },
    {
     "cell_type": "code",
     "collapsed": false,
     "input": [
      "# see: http://www.csie.ntu.edu.tw/~cjlin/libshorttext/doc/classifier.html#results-of-prediction-predictionresult\n",
      "# predictionResult.predicted_y"
     ],
     "language": "python",
     "metadata": {},
     "outputs": [],
     "prompt_number": 19
    },
    {
     "cell_type": "heading",
     "level": 1,
     "metadata": {},
     "source": [
      "Analyze the results"
     ]
    },
    {
     "cell_type": "code",
     "collapsed": false,
     "input": [
      "this_analyzer = analyzer.Analyzer(text_model)"
     ],
     "language": "python",
     "metadata": {},
     "outputs": [],
     "prompt_number": 20
    },
    {
     "cell_type": "code",
     "collapsed": false,
     "input": [
      "this_analyzer.__dict__"
     ],
     "language": "python",
     "metadata": {},
     "outputs": [
      {
       "metadata": {},
       "output_type": "pyout",
       "prompt_number": 21,
       "text": [
        "{'labels': ['U10',\n",
        "  'A00',\n",
        "  'F30',\n",
        "  'W10',\n",
        "  'A50',\n",
        "  'F10',\n",
        "  'A40',\n",
        "  'A60',\n",
        "  'F00',\n",
        "  'C30',\n",
        "  'F40',\n",
        "  'U30',\n",
        "  'S50',\n",
        "  'M30',\n",
        "  'A70',\n",
        "  'F50',\n",
        "  'A30',\n",
        "  'U50',\n",
        "  'M50',\n",
        "  'M00',\n",
        "  'C10',\n",
        "  'S20',\n",
        "  'U20',\n",
        "  'M40',\n",
        "  'A20',\n",
        "  'F20',\n",
        "  'M10',\n",
        "  'U00',\n",
        "  'M20',\n",
        "  'S10',\n",
        "  'M01',\n",
        "  'U60'],\n",
        " 'model': <libshorttext.classifier.classifier_impl.TextModel at 0x106b01ad0>}"
       ]
      }
     ],
     "prompt_number": 21
    },
    {
     "cell_type": "code",
     "collapsed": false,
     "input": [
      "# This seems not to work? \n",
      "# print \"The result is analyzable is: %s\" % (predictionResult.analyzable())\n",
      "# iset = analyzer.InstanceSet(prediction_result_path)"
     ],
     "language": "python",
     "metadata": {},
     "outputs": [],
     "prompt_number": 22
    },
    {
     "cell_type": "code",
     "collapsed": false,
     "input": [
      "# see how well we did -- make our own confusion table\n",
      "\n",
      "results_raw = {}\n",
      "for true_y, predicted_y in zip(predictionResult.true_y,predictionResult.predicted_y):\n",
      "    key = \"%s-%s\" % (true_y, predicted_y)\n",
      "    try:\n",
      "        results_raw[key] += 1\n",
      "    except KeyError:\n",
      "        results_raw[key] = 0\n",
      "\n",
      "#categories = ['001', '002', '003', '004', '005', '006', '007']\n",
      "categories = ['A00', 'A20', 'A30', 'A40', 'A50', 'A60', 'A70', 'C10', 'C30', 'F00', 'F10', 'F20', 'F30', 'F40', 'F50', 'M00', 'M01', 'M10', 'M20', 'M30', 'M40', 'M50', 'S10', 'S20', 'S50', 'U00', 'U10', 'U20', 'U30', 'U50', 'U60', 'W10']\n",
      "subtotals = {}\n",
      "for i in categories:\n",
      "    total = 0\n",
      "    miscategorized = 0\n",
      "    categorized = 0\n",
      "    \n",
      "    for j in categories:\n",
      "        this_total = 0\n",
      "\n",
      "        try:\n",
      "            this_key = \"%s-%s\" % (i,j)\n",
      "            this_total =  results_raw[this_key]\n",
      "            if i == j:\n",
      "                categorized += this_total\n",
      "            else:\n",
      "                miscategorized += this_total\n",
      "                print \"miscategory: %s - %s\" % (this_key, this_total)\n",
      "            \n",
      "        except KeyError:\n",
      "            pass\n",
      "        total += this_total\n",
      "    if total > 0:\n",
      "        print \"total %s is %s; categorized = %.2f miscategorized = %.2f\\n\\n\" % (i, total, (categorized+0.0)/total, (miscategorized+0.0)/total)\n",
      "        "
     ],
     "language": "python",
     "metadata": {},
     "outputs": [
      {
       "output_type": "stream",
       "stream": "stdout",
       "text": [
        "miscategory: A00-A30 - 0\n",
        "miscategory: A00-F40 - 0\n",
        "miscategory: A00-U10 - 1\n",
        "miscategory: A00-U50 - 0\n",
        "miscategory: A00-W10 - 0\n",
        "total A00 is 126; categorized = 0.99 miscategorized = 0.01\n",
        "\n",
        "\n",
        "miscategory: A20-A70 - 0\n",
        "miscategory: A20-F20 - 2\n",
        "miscategory: A20-F40 - 1\n",
        "miscategory: A20-M30 - 0\n",
        "miscategory: A20-U10 - 1\n",
        "miscategory: A20-U20 - 5\n",
        "total A20 is 22; categorized = 0.59 miscategorized = 0.41\n",
        "\n",
        "\n",
        "miscategory: A30-C30 - 0\n",
        "miscategory: A30-U30 - 0\n",
        "total A30 is 72; categorized = 1.00 miscategorized = 0.00\n",
        "\n",
        "\n",
        "miscategory: A40-C30 - 0\n",
        "miscategory: A40-F30 - 0\n",
        "miscategory: A40-F40 - 0\n",
        "miscategory: A40-U20 - 0\n",
        "miscategory: A40-W10 - 0\n",
        "total A40 is 565; categorized = 1.00 miscategorized = 0.00\n",
        "\n",
        "\n",
        "total A50 is 8; categorized = 1.00 miscategorized = 0.00\n",
        "\n",
        "\n",
        "total A60 is 64; categorized = 1.00 miscategorized = 0.00\n",
        "\n",
        "\n",
        "miscategory: A70-F40 - 0\n",
        "miscategory: A70-U20 - 1\n",
        "total A70 is 116; categorized = 0.99 miscategorized = 0.01\n",
        "\n",
        "\n",
        "miscategory: C10-A00 - 1\n",
        "miscategory: C10-A70 - 0\n",
        "miscategory: C10-C30 - 0\n",
        "miscategory: C10-F10 - 7\n",
        "miscategory: C10-F20 - 0\n",
        "miscategory: C10-M00 - 1\n",
        "miscategory: C10-S20 - 2\n",
        "miscategory: C10-S50 - 0\n",
        "miscategory: C10-U10 - 25\n",
        "miscategory: C10-U30 - 3\n",
        "total C10 is 455; categorized = 0.91 miscategorized = 0.09\n",
        "\n",
        "\n",
        "miscategory: C30-A30 - 0\n",
        "miscategory: C30-A60 - 0\n",
        "miscategory: C30-C10 - 0\n",
        "miscategory: C30-F30 - 1\n",
        "miscategory: C30-M00 - 1\n",
        "miscategory: C30-M40 - 0\n",
        "miscategory: C30-S20 - 1\n",
        "miscategory: C30-U10 - 3\n",
        "miscategory: C30-U30 - 41\n",
        "miscategory: C30-U50 - 0\n",
        "miscategory: C30-W10 - 0\n",
        "total C30 is 522; categorized = 0.91 miscategorized = 0.09\n",
        "\n",
        "\n",
        "miscategory: F00-A30 - 0\n",
        "miscategory: F00-F30 - 2\n",
        "miscategory: F00-F50 - 2\n",
        "miscategory: F00-M30 - 0\n",
        "miscategory: F00-U10 - 0\n",
        "miscategory: F00-W10 - 0\n",
        "total F00 is 57; categorized = 0.93 miscategorized = 0.07\n",
        "\n",
        "\n",
        "miscategory: F10-A70 - 0\n",
        "miscategory: F10-C10 - 10\n",
        "miscategory: F10-U10 - 34\n",
        "miscategory: F10-W10 - 0\n",
        "total F10 is 138; categorized = 0.68 miscategorized = 0.32\n",
        "\n",
        "\n",
        "miscategory: F20-A20 - 3\n",
        "miscategory: F20-F10 - 3\n",
        "miscategory: F20-F40 - 0\n",
        "miscategory: F20-S20 - 1\n",
        "miscategory: F20-U10 - 0\n",
        "miscategory: F20-U20 - 1\n",
        "total F20 is 28; categorized = 0.71 miscategorized = 0.29\n",
        "\n",
        "\n",
        "miscategory: F30-A40 - 0\n",
        "miscategory: F30-C10 - 0\n",
        "miscategory: F30-C30 - 3\n",
        "miscategory: F30-F00 - 6\n",
        "miscategory: F30-F50 - 1\n",
        "miscategory: F30-U10 - 0\n",
        "miscategory: F30-U30 - 19\n",
        "miscategory: F30-W10 - 0\n",
        "total F30 is 158; categorized = 0.82 miscategorized = 0.18\n",
        "\n",
        "\n",
        "miscategory: F40-A00 - 7\n",
        "miscategory: F40-A30 - 0\n",
        "miscategory: F40-A40 - 1\n",
        "miscategory: F40-A60 - 0\n",
        "miscategory: F40-F00 - 1\n",
        "miscategory: F40-M10 - 0\n",
        "miscategory: F40-S20 - 1\n",
        "total F40 is 399; categorized = 0.97 miscategorized = 0.03\n",
        "\n",
        "\n",
        "miscategory: F50-A60 - 1\n",
        "miscategory: F50-C10 - 0\n",
        "miscategory: F50-F00 - 0\n",
        "miscategory: F50-F10 - 3\n",
        "miscategory: F50-F30 - 0\n",
        "miscategory: F50-S50 - 3\n",
        "miscategory: F50-U50 - 4\n",
        "total F50 is 176; categorized = 0.94 miscategorized = 0.06\n",
        "\n",
        "\n",
        "miscategory: M00-M10 - 7\n",
        "miscategory: M00-M20 - 6\n",
        "miscategory: M00-M30 - 2\n",
        "miscategory: M00-M50 - 4\n",
        "miscategory: M00-S20 - 0\n",
        "miscategory: M00-S50 - 0\n",
        "total M00 is 266; categorized = 0.93 miscategorized = 0.07\n",
        "\n",
        "\n",
        "miscategory: M01-M10 - 0\n",
        "miscategory: M01-M20 - 2\n",
        "total M01 is 44; categorized = 0.95 miscategorized = 0.05\n",
        "\n",
        "\n",
        "miscategory: M10-A70 - 0\n",
        "miscategory: M10-F40 - 0\n",
        "miscategory: M10-M00 - 5\n",
        "miscategory: M10-M20 - 0\n",
        "miscategory: M10-S20 - 1\n",
        "total M10 is 114; categorized = 0.95 miscategorized = 0.05\n",
        "\n",
        "\n",
        "miscategory: M20-M00 - 29\n",
        "miscategory: M20-M10 - 0\n",
        "miscategory: M20-M30 - 0\n",
        "total M20 is 88; categorized = 0.67 miscategorized = 0.33\n",
        "\n",
        "\n",
        "miscategory: M30-A20 - 0\n",
        "miscategory: M30-A40 - 0\n",
        "miscategory: M30-A70 - 0\n",
        "miscategory: M30-M00 - 90\n",
        "miscategory: M30-M01 - 2\n",
        "miscategory: M30-M20 - 8\n",
        "miscategory: M30-U20 - 2\n",
        "total M30 is 296; categorized = 0.66 miscategorized = 0.34\n",
        "\n",
        "\n",
        "miscategory: M40-C10 - 1\n",
        "miscategory: M40-M30 - 0\n",
        "miscategory: M40-S50 - 0\n",
        "miscategory: M40-U30 - 0\n",
        "miscategory: M40-U50 - 2\n",
        "total M40 is 68; categorized = 0.96 miscategorized = 0.04\n",
        "\n",
        "\n",
        "miscategory: M50-M30 - 5\n",
        "miscategory: M50-S50 - 7\n",
        "miscategory: M50-U00 - 0\n",
        "miscategory: M50-U50 - 1\n",
        "total M50 is 85; categorized = 0.85 miscategorized = 0.15\n",
        "\n",
        "\n",
        "miscategory: S10-F30 - 0\n",
        "miscategory: S10-S20 - 4\n",
        "miscategory: S10-W10 - 0\n",
        "total S10 is 112; categorized = 0.96 miscategorized = 0.04\n",
        "\n",
        "\n",
        "miscategory: S20-A30 - 0\n",
        "miscategory: S20-A70 - 0\n",
        "miscategory: S20-F20 - 2\n",
        "miscategory: S20-M01 - 1\n",
        "miscategory: S20-W10 - 1\n",
        "total S20 is 262; categorized = 0.98 miscategorized = 0.02\n",
        "\n",
        "\n",
        "miscategory: S50-A60 - 0\n",
        "miscategory: S50-C30 - 0\n",
        "miscategory: S50-F50 - 2\n",
        "miscategory: S50-M50 - 2\n",
        "miscategory: S50-S10 - 1\n",
        "miscategory: S50-S20 - 4\n",
        "miscategory: S50-U50 - 54\n",
        "total S50 is 608; categorized = 0.90 miscategorized = 0.10\n",
        "\n",
        "\n",
        "miscategory: U00-M01 - 0\n",
        "total U00 is 10; categorized = 1.00 miscategorized = 0.00\n",
        "\n",
        "\n",
        "miscategory: U10-A00 - 0\n",
        "miscategory: U10-C10 - 57\n",
        "miscategory: U10-F10 - 13\n",
        "miscategory: U10-F40 - 1\n",
        "miscategory: U10-U20 - 0\n",
        "total U10 is 432; categorized = 0.84 miscategorized = 0.16\n",
        "\n",
        "\n",
        "miscategory: U20-A20 - 0\n",
        "miscategory: U20-F20 - 4\n",
        "miscategory: U20-S20 - 2\n",
        "miscategory: U20-W10 - 0\n",
        "total U20 is 168; categorized = 0.96 miscategorized = 0.04\n",
        "\n",
        "\n",
        "miscategory: U30-A40 - 0\n",
        "miscategory: U30-C30 - 16\n",
        "miscategory: U30-F30 - 5\n",
        "miscategory: U30-M40 - 0\n",
        "miscategory: U30-U10 - 0\n",
        "miscategory: U30-U20 - 0\n",
        "total U30 is 170; categorized = 0.88 miscategorized = 0.12\n",
        "\n",
        "\n",
        "miscategory: U50-A60 - 1\n",
        "miscategory: U50-M50 - 0\n",
        "miscategory: U50-S50 - 7\n",
        "total U50 is 159; categorized = 0.95 miscategorized = 0.05\n",
        "\n",
        "\n",
        "total U60 is 36; categorized = 1.00 miscategorized = 0.00\n",
        "\n",
        "\n",
        "miscategory: W10-F50 - 0\n",
        "miscategory: W10-M10 - 0\n",
        "miscategory: W10-U00 - 1\n",
        "miscategory: W10-U50 - 0\n",
        "total W10 is 995; categorized = 1.00 miscategorized = 0.00\n",
        "\n",
        "\n"
       ]
      }
     ],
     "prompt_number": 23
    },
    {
     "cell_type": "code",
     "collapsed": false,
     "input": [
      "predictionResult.get_accuracy()"
     ],
     "language": "python",
     "metadata": {},
     "outputs": [
      {
       "metadata": {},
       "output_type": "pyout",
       "prompt_number": 24,
       "text": [
        "0.8994285714285715"
       ]
      }
     ],
     "prompt_number": 24
    },
    {
     "cell_type": "code",
     "collapsed": false,
     "input": [
      "# this file has category codes that are empty\n",
      "expenditure_file = '/Users/jfenton/fec_disbursements/distinct_purposes.txt'"
     ],
     "language": "python",
     "metadata": {},
     "outputs": [],
     "prompt_number": 25
    },
    {
     "cell_type": "code",
     "collapsed": false,
     "input": [
      "import datetime\n",
      "start = datetime.datetime.now()\n",
      "expenditureResult = predict_text(expenditure_file, text_model)\n",
      "end = datetime.datetime.now()\n",
      "print \"Elapsed time is: %s\" % (end-start)"
     ],
     "language": "python",
     "metadata": {},
     "outputs": [
      {
       "output_type": "stream",
       "stream": "stdout",
       "text": [
        "Elapsed time is: 0:00:05.593275\n"
       ]
      }
     ],
     "prompt_number": 26
    },
    {
     "cell_type": "code",
     "collapsed": false,
     "input": [
      "outfile = '/Users/jfenton/fec_disbursements/distinct_purposes_coded.csv'"
     ],
     "language": "python",
     "metadata": {},
     "outputs": [],
     "prompt_number": 27
    },
    {
     "cell_type": "code",
     "collapsed": false,
     "input": [
      "fh = open(outfile, 'w')\n",
      "writer = csv.writer(fh)"
     ],
     "language": "python",
     "metadata": {},
     "outputs": [],
     "prompt_number": 28
    },
    {
     "cell_type": "code",
     "collapsed": false,
     "input": [
      "expenditure_fh = open(expenditure_file, 'r')"
     ],
     "language": "python",
     "metadata": {},
     "outputs": [],
     "prompt_number": 29
    },
    {
     "cell_type": "code",
     "collapsed": false,
     "input": [
      "line = 0\n",
      "while True:\n",
      "    thisline = expenditure_fh.readline().replace(\"\\n\", \" \")\n",
      "    if not thisline:\n",
      "        break    \n",
      "    writeline = thisline.split(\"\\t\") + [expenditureResult.predicted_y[line]]\n",
      "    line += 1\n",
      "    writer.writerow(writeline)\n"
     ],
     "language": "python",
     "metadata": {},
     "outputs": [],
     "prompt_number": 30
    },
    {
     "cell_type": "code",
     "collapsed": false,
     "input": [
      "len(expenditureResult.predicted_y)"
     ],
     "language": "python",
     "metadata": {},
     "outputs": [
      {
       "metadata": {},
       "output_type": "pyout",
       "prompt_number": 31,
       "text": [
        "41780"
       ]
      }
     ],
     "prompt_number": 31
    },
    {
     "cell_type": "code",
     "collapsed": false,
     "input": [],
     "language": "python",
     "metadata": {},
     "outputs": [],
     "prompt_number": 31
    }
   ],
   "metadata": {}
  }
 ]
}